{
  "metadata": {
    "kernelspec": {
      "language": "python",
      "display_name": "Python 3",
      "name": "python3"
    },
    "language_info": {
      "name": "python",
      "version": "3.7.10",
      "mimetype": "text/x-python",
      "codemirror_mode": {
        "name": "ipython",
        "version": 3
      },
      "pygments_lexer": "ipython3",
      "nbconvert_exporter": "python",
      "file_extension": ".py"
    },
    "colab": {
      "name": "breast-cancer-classification.ipynb",
      "provenance": []
    }
  },
  "nbformat_minor": 0,
  "nbformat": 4,
  "cells": [
    {
      "cell_type": "markdown",
      "source": [
        "## Importing Basic Libararies"
      ],
      "metadata": {
        "id": "UXMWv-Yj0q9G"
      }
    },
    {
      "cell_type": "code",
      "source": [
        "import numpy as np # linear algebra\n",
        "import pandas as pd # data processing,\n",
        "import matplotlib.pyplot as plt # information ploting"
      ],
      "metadata": {
        "_cell_guid": "b1076dfc-b9ad-4769-8c92-a6c4dae69d19",
        "_uuid": "8f2839f25d086af736a60e9eeb907d3b93b6e0e5",
        "execution": {
          "iopub.status.busy": "2021-08-01T19:22:43.547650Z",
          "iopub.execute_input": "2021-08-01T19:22:43.548035Z",
          "iopub.status.idle": "2021-08-01T19:22:43.552857Z",
          "shell.execute_reply.started": "2021-08-01T19:22:43.548004Z",
          "shell.execute_reply": "2021-08-01T19:22:43.551598Z"
        },
        "trusted": true,
        "id": "BbJ6z17a0q9K"
      },
      "execution_count": null,
      "outputs": []
    },
    {
      "cell_type": "markdown",
      "source": [
        "## Importing Dataset"
      ],
      "metadata": {
        "id": "smkznpSy0q9L"
      }
    },
    {
      "cell_type": "code",
      "source": [
        "dataset = pd.read_csv(\"/content/dataR2.csv\")\n",
        "dataset.head()"
      ],
      "metadata": {
        "execution": {
          "iopub.status.busy": "2021-08-01T19:22:43.583611Z",
          "iopub.execute_input": "2021-08-01T19:22:43.584110Z",
          "iopub.status.idle": "2021-08-01T19:22:43.614602Z",
          "shell.execute_reply.started": "2021-08-01T19:22:43.584067Z",
          "shell.execute_reply": "2021-08-01T19:22:43.613743Z"
        },
        "trusted": true,
        "colab": {
          "base_uri": "https://localhost:8080/",
          "height": 206
        },
        "id": "7Ochy7ql0q9L",
        "outputId": "9a0d9546-e465-4128-8c3e-20c7fe0c5e6f"
      },
      "execution_count": null,
      "outputs": [
        {
          "output_type": "execute_result",
          "data": {
            "text/plain": [
              "   Age        BMI  Glucose  Insulin      HOMA   Leptin  Adiponectin  Resistin  \\\n",
              "0   48  23.500000       70    2.707  0.467409   8.8071     9.702400   7.99585   \n",
              "1   83  20.690495       92    3.115  0.706897   8.8438     5.429285   4.06405   \n",
              "2   82  23.124670       91    4.498  1.009651  17.9393    22.432040   9.27715   \n",
              "3   68  21.367521       77    3.226  0.612725   9.8827     7.169560  12.76600   \n",
              "4   86  21.111111       92    3.549  0.805386   6.6994     4.819240  10.57635   \n",
              "\n",
              "     MCP.1  Classification  \n",
              "0  417.114               1  \n",
              "1  468.786               1  \n",
              "2  554.697               1  \n",
              "3  928.220               1  \n",
              "4  773.920               1  "
            ],
            "text/html": [
              "\n",
              "  <div id=\"df-6c2429d3-99a1-4006-9527-cc339703d46c\">\n",
              "    <div class=\"colab-df-container\">\n",
              "      <div>\n",
              "<style scoped>\n",
              "    .dataframe tbody tr th:only-of-type {\n",
              "        vertical-align: middle;\n",
              "    }\n",
              "\n",
              "    .dataframe tbody tr th {\n",
              "        vertical-align: top;\n",
              "    }\n",
              "\n",
              "    .dataframe thead th {\n",
              "        text-align: right;\n",
              "    }\n",
              "</style>\n",
              "<table border=\"1\" class=\"dataframe\">\n",
              "  <thead>\n",
              "    <tr style=\"text-align: right;\">\n",
              "      <th></th>\n",
              "      <th>Age</th>\n",
              "      <th>BMI</th>\n",
              "      <th>Glucose</th>\n",
              "      <th>Insulin</th>\n",
              "      <th>HOMA</th>\n",
              "      <th>Leptin</th>\n",
              "      <th>Adiponectin</th>\n",
              "      <th>Resistin</th>\n",
              "      <th>MCP.1</th>\n",
              "      <th>Classification</th>\n",
              "    </tr>\n",
              "  </thead>\n",
              "  <tbody>\n",
              "    <tr>\n",
              "      <th>0</th>\n",
              "      <td>48</td>\n",
              "      <td>23.500000</td>\n",
              "      <td>70</td>\n",
              "      <td>2.707</td>\n",
              "      <td>0.467409</td>\n",
              "      <td>8.8071</td>\n",
              "      <td>9.702400</td>\n",
              "      <td>7.99585</td>\n",
              "      <td>417.114</td>\n",
              "      <td>1</td>\n",
              "    </tr>\n",
              "    <tr>\n",
              "      <th>1</th>\n",
              "      <td>83</td>\n",
              "      <td>20.690495</td>\n",
              "      <td>92</td>\n",
              "      <td>3.115</td>\n",
              "      <td>0.706897</td>\n",
              "      <td>8.8438</td>\n",
              "      <td>5.429285</td>\n",
              "      <td>4.06405</td>\n",
              "      <td>468.786</td>\n",
              "      <td>1</td>\n",
              "    </tr>\n",
              "    <tr>\n",
              "      <th>2</th>\n",
              "      <td>82</td>\n",
              "      <td>23.124670</td>\n",
              "      <td>91</td>\n",
              "      <td>4.498</td>\n",
              "      <td>1.009651</td>\n",
              "      <td>17.9393</td>\n",
              "      <td>22.432040</td>\n",
              "      <td>9.27715</td>\n",
              "      <td>554.697</td>\n",
              "      <td>1</td>\n",
              "    </tr>\n",
              "    <tr>\n",
              "      <th>3</th>\n",
              "      <td>68</td>\n",
              "      <td>21.367521</td>\n",
              "      <td>77</td>\n",
              "      <td>3.226</td>\n",
              "      <td>0.612725</td>\n",
              "      <td>9.8827</td>\n",
              "      <td>7.169560</td>\n",
              "      <td>12.76600</td>\n",
              "      <td>928.220</td>\n",
              "      <td>1</td>\n",
              "    </tr>\n",
              "    <tr>\n",
              "      <th>4</th>\n",
              "      <td>86</td>\n",
              "      <td>21.111111</td>\n",
              "      <td>92</td>\n",
              "      <td>3.549</td>\n",
              "      <td>0.805386</td>\n",
              "      <td>6.6994</td>\n",
              "      <td>4.819240</td>\n",
              "      <td>10.57635</td>\n",
              "      <td>773.920</td>\n",
              "      <td>1</td>\n",
              "    </tr>\n",
              "  </tbody>\n",
              "</table>\n",
              "</div>\n",
              "      <button class=\"colab-df-convert\" onclick=\"convertToInteractive('df-6c2429d3-99a1-4006-9527-cc339703d46c')\"\n",
              "              title=\"Convert this dataframe to an interactive table.\"\n",
              "              style=\"display:none;\">\n",
              "        \n",
              "  <svg xmlns=\"http://www.w3.org/2000/svg\" height=\"24px\"viewBox=\"0 0 24 24\"\n",
              "       width=\"24px\">\n",
              "    <path d=\"M0 0h24v24H0V0z\" fill=\"none\"/>\n",
              "    <path d=\"M18.56 5.44l.94 2.06.94-2.06 2.06-.94-2.06-.94-.94-2.06-.94 2.06-2.06.94zm-11 1L8.5 8.5l.94-2.06 2.06-.94-2.06-.94L8.5 2.5l-.94 2.06-2.06.94zm10 10l.94 2.06.94-2.06 2.06-.94-2.06-.94-.94-2.06-.94 2.06-2.06.94z\"/><path d=\"M17.41 7.96l-1.37-1.37c-.4-.4-.92-.59-1.43-.59-.52 0-1.04.2-1.43.59L10.3 9.45l-7.72 7.72c-.78.78-.78 2.05 0 2.83L4 21.41c.39.39.9.59 1.41.59.51 0 1.02-.2 1.41-.59l7.78-7.78 2.81-2.81c.8-.78.8-2.07 0-2.86zM5.41 20L4 18.59l7.72-7.72 1.47 1.35L5.41 20z\"/>\n",
              "  </svg>\n",
              "      </button>\n",
              "      \n",
              "  <style>\n",
              "    .colab-df-container {\n",
              "      display:flex;\n",
              "      flex-wrap:wrap;\n",
              "      gap: 12px;\n",
              "    }\n",
              "\n",
              "    .colab-df-convert {\n",
              "      background-color: #E8F0FE;\n",
              "      border: none;\n",
              "      border-radius: 50%;\n",
              "      cursor: pointer;\n",
              "      display: none;\n",
              "      fill: #1967D2;\n",
              "      height: 32px;\n",
              "      padding: 0 0 0 0;\n",
              "      width: 32px;\n",
              "    }\n",
              "\n",
              "    .colab-df-convert:hover {\n",
              "      background-color: #E2EBFA;\n",
              "      box-shadow: 0px 1px 2px rgba(60, 64, 67, 0.3), 0px 1px 3px 1px rgba(60, 64, 67, 0.15);\n",
              "      fill: #174EA6;\n",
              "    }\n",
              "\n",
              "    [theme=dark] .colab-df-convert {\n",
              "      background-color: #3B4455;\n",
              "      fill: #D2E3FC;\n",
              "    }\n",
              "\n",
              "    [theme=dark] .colab-df-convert:hover {\n",
              "      background-color: #434B5C;\n",
              "      box-shadow: 0px 1px 3px 1px rgba(0, 0, 0, 0.15);\n",
              "      filter: drop-shadow(0px 1px 2px rgba(0, 0, 0, 0.3));\n",
              "      fill: #FFFFFF;\n",
              "    }\n",
              "  </style>\n",
              "\n",
              "      <script>\n",
              "        const buttonEl =\n",
              "          document.querySelector('#df-6c2429d3-99a1-4006-9527-cc339703d46c button.colab-df-convert');\n",
              "        buttonEl.style.display =\n",
              "          google.colab.kernel.accessAllowed ? 'block' : 'none';\n",
              "\n",
              "        async function convertToInteractive(key) {\n",
              "          const element = document.querySelector('#df-6c2429d3-99a1-4006-9527-cc339703d46c');\n",
              "          const dataTable =\n",
              "            await google.colab.kernel.invokeFunction('convertToInteractive',\n",
              "                                                     [key], {});\n",
              "          if (!dataTable) return;\n",
              "\n",
              "          const docLinkHtml = 'Like what you see? Visit the ' +\n",
              "            '<a target=\"_blank\" href=https://colab.research.google.com/notebooks/data_table.ipynb>data table notebook</a>'\n",
              "            + ' to learn more about interactive tables.';\n",
              "          element.innerHTML = '';\n",
              "          dataTable['output_type'] = 'display_data';\n",
              "          await google.colab.output.renderOutput(dataTable, element);\n",
              "          const docLink = document.createElement('div');\n",
              "          docLink.innerHTML = docLinkHtml;\n",
              "          element.appendChild(docLink);\n",
              "        }\n",
              "      </script>\n",
              "    </div>\n",
              "  </div>\n",
              "  "
            ]
          },
          "metadata": {},
          "execution_count": 2
        }
      ]
    },
    {
      "cell_type": "code",
      "source": [
        "dataset.info()"
      ],
      "metadata": {
        "execution": {
          "iopub.status.busy": "2021-08-01T19:22:43.633712Z",
          "iopub.execute_input": "2021-08-01T19:22:43.634080Z",
          "iopub.status.idle": "2021-08-01T19:22:43.649760Z",
          "shell.execute_reply.started": "2021-08-01T19:22:43.634048Z",
          "shell.execute_reply": "2021-08-01T19:22:43.648840Z"
        },
        "trusted": true,
        "colab": {
          "base_uri": "https://localhost:8080/"
        },
        "id": "xoiYR5p50q9M",
        "outputId": "5538bb1e-0aa5-4181-d603-2623895208af"
      },
      "execution_count": null,
      "outputs": [
        {
          "output_type": "stream",
          "name": "stdout",
          "text": [
            "<class 'pandas.core.frame.DataFrame'>\n",
            "RangeIndex: 116 entries, 0 to 115\n",
            "Data columns (total 10 columns):\n",
            " #   Column          Non-Null Count  Dtype  \n",
            "---  ------          --------------  -----  \n",
            " 0   Age             116 non-null    int64  \n",
            " 1   BMI             116 non-null    float64\n",
            " 2   Glucose         116 non-null    int64  \n",
            " 3   Insulin         116 non-null    float64\n",
            " 4   HOMA            116 non-null    float64\n",
            " 5   Leptin          116 non-null    float64\n",
            " 6   Adiponectin     116 non-null    float64\n",
            " 7   Resistin        116 non-null    float64\n",
            " 8   MCP.1           116 non-null    float64\n",
            " 9   Classification  116 non-null    int64  \n",
            "dtypes: float64(7), int64(3)\n",
            "memory usage: 9.2 KB\n"
          ]
        }
      ]
    },
    {
      "cell_type": "code",
      "source": [
        "y = dataset.iloc[:,-1].values\n",
        "X = dataset.iloc[:,:-1]"
      ],
      "metadata": {
        "execution": {
          "iopub.status.busy": "2021-08-01T19:22:43.652272Z",
          "iopub.execute_input": "2021-08-01T19:22:43.652646Z",
          "iopub.status.idle": "2021-08-01T19:22:43.668706Z",
          "shell.execute_reply.started": "2021-08-01T19:22:43.652613Z",
          "shell.execute_reply": "2021-08-01T19:22:43.667547Z"
        },
        "trusted": true,
        "id": "haAkSE7N0q9N"
      },
      "execution_count": null,
      "outputs": []
    },
    {
      "cell_type": "code",
      "source": [
        "y[np.where(y == 1)] = 0 # labeled as healthy\n",
        "y[np.where(y == 2)] = 1 # labeled as sick\n",
        "y"
      ],
      "metadata": {
        "execution": {
          "iopub.status.busy": "2021-08-01T19:22:43.697360Z",
          "iopub.execute_input": "2021-08-01T19:22:43.697990Z",
          "iopub.status.idle": "2021-08-01T19:22:43.706508Z",
          "shell.execute_reply.started": "2021-08-01T19:22:43.697936Z",
          "shell.execute_reply": "2021-08-01T19:22:43.705229Z"
        },
        "trusted": true,
        "colab": {
          "base_uri": "https://localhost:8080/"
        },
        "id": "Ot18KN--0q9O",
        "outputId": "e2c8b694-cc3b-48ca-e0f3-a7921e12e7fe"
      },
      "execution_count": null,
      "outputs": [
        {
          "output_type": "execute_result",
          "data": {
            "text/plain": [
              "array([0, 0, 0, 0, 0, 0, 0, 0, 0, 0, 0, 0, 0, 0, 0, 0, 0, 0, 0, 0, 0, 0,\n",
              "       0, 0, 0, 0, 0, 0, 0, 0, 0, 0, 0, 0, 0, 0, 0, 0, 0, 0, 0, 0, 0, 0,\n",
              "       0, 0, 0, 0, 0, 0, 0, 0, 1, 1, 1, 1, 1, 1, 1, 1, 1, 1, 1, 1, 1, 1,\n",
              "       1, 1, 1, 1, 1, 1, 1, 1, 1, 1, 1, 1, 1, 1, 1, 1, 1, 1, 1, 1, 1, 1,\n",
              "       1, 1, 1, 1, 1, 1, 1, 1, 1, 1, 1, 1, 1, 1, 1, 1, 1, 1, 1, 1, 1, 1,\n",
              "       1, 1, 1, 1, 1, 1])"
            ]
          },
          "metadata": {},
          "execution_count": 5
        }
      ]
    },
    {
      "cell_type": "code",
      "source": [
        "X.mean(axis=0)"
      ],
      "metadata": {
        "execution": {
          "iopub.status.busy": "2021-08-01T19:22:43.747811Z",
          "iopub.execute_input": "2021-08-01T19:22:43.748168Z",
          "iopub.status.idle": "2021-08-01T19:22:43.757219Z",
          "shell.execute_reply.started": "2021-08-01T19:22:43.748137Z",
          "shell.execute_reply": "2021-08-01T19:22:43.756121Z"
        },
        "trusted": true,
        "colab": {
          "base_uri": "https://localhost:8080/"
        },
        "id": "HqiX43wd0q9O",
        "outputId": "b665d3ae-eb63-425e-863b-408e43dc217b"
      },
      "execution_count": null,
      "outputs": [
        {
          "output_type": "execute_result",
          "data": {
            "text/plain": [
              "Age             57.301724\n",
              "BMI             27.582111\n",
              "Glucose         97.793103\n",
              "Insulin         10.012086\n",
              "HOMA             2.694988\n",
              "Leptin          26.615080\n",
              "Adiponectin     10.180874\n",
              "Resistin        14.725966\n",
              "MCP.1          534.647000\n",
              "dtype: float64"
            ]
          },
          "metadata": {},
          "execution_count": 6
        }
      ]
    },
    {
      "cell_type": "markdown",
      "source": [
        "### shuffle the dataset"
      ],
      "metadata": {
        "id": "W5inyJVf0q9P"
      }
    },
    {
      "cell_type": "code",
      "source": [
        "def unison_shuffle(a, b):\n",
        "  # make a shuffle index array to make a fixed shuffling order for both x, y\n",
        "  inx = np.random.permutation(a.shape[0])  \n",
        "  return a.iloc[inx].reset_index(drop=True), b[inx]"
      ],
      "metadata": {
        "execution": {
          "iopub.status.busy": "2021-08-01T19:22:43.776114Z",
          "iopub.execute_input": "2021-08-01T19:22:43.776799Z",
          "iopub.status.idle": "2021-08-01T19:22:43.781986Z",
          "shell.execute_reply.started": "2021-08-01T19:22:43.776759Z",
          "shell.execute_reply": "2021-08-01T19:22:43.780937Z"
        },
        "trusted": true,
        "id": "N95laDqF0q9P"
      },
      "execution_count": null,
      "outputs": []
    },
    {
      "cell_type": "code",
      "source": [
        "X, y = unison_shuffle(X, y)"
      ],
      "metadata": {
        "execution": {
          "iopub.status.busy": "2021-08-01T19:22:43.788218Z",
          "iopub.execute_input": "2021-08-01T19:22:43.788565Z",
          "iopub.status.idle": "2021-08-01T19:22:43.799785Z",
          "shell.execute_reply.started": "2021-08-01T19:22:43.788536Z",
          "shell.execute_reply": "2021-08-01T19:22:43.798606Z"
        },
        "trusted": true,
        "id": "IT_XrXdO0q9Q"
      },
      "execution_count": null,
      "outputs": []
    },
    {
      "cell_type": "code",
      "source": [
        "X"
      ],
      "metadata": {
        "execution": {
          "iopub.status.busy": "2021-08-01T19:22:43.809373Z",
          "iopub.execute_input": "2021-08-01T19:22:43.809955Z",
          "iopub.status.idle": "2021-08-01T19:22:43.835410Z",
          "shell.execute_reply.started": "2021-08-01T19:22:43.809918Z",
          "shell.execute_reply": "2021-08-01T19:22:43.834304Z"
        },
        "trusted": true,
        "colab": {
          "base_uri": "https://localhost:8080/",
          "height": 423
        },
        "id": "iSLJE4lc0q9Q",
        "outputId": "33c88c25-117f-42eb-f78d-718abf1f1941"
      },
      "execution_count": null,
      "outputs": [
        {
          "output_type": "execute_result",
          "data": {
            "text/plain": [
              "     Age        BMI  Glucose  Insulin      HOMA   Leptin  Adiponectin  \\\n",
              "0     68  21.082813      102    6.200  1.559920   9.6994     8.574655   \n",
              "1     67  29.606767       79    5.819  1.133929  21.9033     2.194280   \n",
              "2     34  24.242424       92   21.699  4.924226  16.7353    21.823745   \n",
              "3     42  21.359915       93    2.999  0.687971  19.0826     8.462915   \n",
              "4     43  26.562500      101   10.555  2.629602   9.8000     6.420295   \n",
              "..   ...        ...      ...      ...       ...      ...          ...   \n",
              "111   62  22.656250       92    3.482  0.790182   9.8648    11.236235   \n",
              "112   32  36.512637       87   14.026  3.009980  49.3727     5.100000   \n",
              "113   25  22.860000       82    4.090  0.827271  20.4500    23.670000   \n",
              "114   49  21.367521       78    2.640  0.507936   6.3339     3.886145   \n",
              "115   54  36.050000      119   11.910  3.495982  89.2700     8.010000   \n",
              "\n",
              "     Resistin    MCP.1  \n",
              "0    13.74244  448.799  \n",
              "1     4.20750  585.307  \n",
              "2    12.06534  481.949  \n",
              "3    17.37615  321.919  \n",
              "4    16.10000  806.724  \n",
              "..        ...      ...  \n",
              "111  10.69548  703.973  \n",
              "112  17.10223  588.460  \n",
              "113   5.14000  313.730  \n",
              "114  22.94254  737.672  \n",
              "115   5.06000  218.280  \n",
              "\n",
              "[116 rows x 9 columns]"
            ],
            "text/html": [
              "\n",
              "  <div id=\"df-a9fb1c7d-d7c6-4d65-b931-c85526163713\">\n",
              "    <div class=\"colab-df-container\">\n",
              "      <div>\n",
              "<style scoped>\n",
              "    .dataframe tbody tr th:only-of-type {\n",
              "        vertical-align: middle;\n",
              "    }\n",
              "\n",
              "    .dataframe tbody tr th {\n",
              "        vertical-align: top;\n",
              "    }\n",
              "\n",
              "    .dataframe thead th {\n",
              "        text-align: right;\n",
              "    }\n",
              "</style>\n",
              "<table border=\"1\" class=\"dataframe\">\n",
              "  <thead>\n",
              "    <tr style=\"text-align: right;\">\n",
              "      <th></th>\n",
              "      <th>Age</th>\n",
              "      <th>BMI</th>\n",
              "      <th>Glucose</th>\n",
              "      <th>Insulin</th>\n",
              "      <th>HOMA</th>\n",
              "      <th>Leptin</th>\n",
              "      <th>Adiponectin</th>\n",
              "      <th>Resistin</th>\n",
              "      <th>MCP.1</th>\n",
              "    </tr>\n",
              "  </thead>\n",
              "  <tbody>\n",
              "    <tr>\n",
              "      <th>0</th>\n",
              "      <td>68</td>\n",
              "      <td>21.082813</td>\n",
              "      <td>102</td>\n",
              "      <td>6.200</td>\n",
              "      <td>1.559920</td>\n",
              "      <td>9.6994</td>\n",
              "      <td>8.574655</td>\n",
              "      <td>13.74244</td>\n",
              "      <td>448.799</td>\n",
              "    </tr>\n",
              "    <tr>\n",
              "      <th>1</th>\n",
              "      <td>67</td>\n",
              "      <td>29.606767</td>\n",
              "      <td>79</td>\n",
              "      <td>5.819</td>\n",
              "      <td>1.133929</td>\n",
              "      <td>21.9033</td>\n",
              "      <td>2.194280</td>\n",
              "      <td>4.20750</td>\n",
              "      <td>585.307</td>\n",
              "    </tr>\n",
              "    <tr>\n",
              "      <th>2</th>\n",
              "      <td>34</td>\n",
              "      <td>24.242424</td>\n",
              "      <td>92</td>\n",
              "      <td>21.699</td>\n",
              "      <td>4.924226</td>\n",
              "      <td>16.7353</td>\n",
              "      <td>21.823745</td>\n",
              "      <td>12.06534</td>\n",
              "      <td>481.949</td>\n",
              "    </tr>\n",
              "    <tr>\n",
              "      <th>3</th>\n",
              "      <td>42</td>\n",
              "      <td>21.359915</td>\n",
              "      <td>93</td>\n",
              "      <td>2.999</td>\n",
              "      <td>0.687971</td>\n",
              "      <td>19.0826</td>\n",
              "      <td>8.462915</td>\n",
              "      <td>17.37615</td>\n",
              "      <td>321.919</td>\n",
              "    </tr>\n",
              "    <tr>\n",
              "      <th>4</th>\n",
              "      <td>43</td>\n",
              "      <td>26.562500</td>\n",
              "      <td>101</td>\n",
              "      <td>10.555</td>\n",
              "      <td>2.629602</td>\n",
              "      <td>9.8000</td>\n",
              "      <td>6.420295</td>\n",
              "      <td>16.10000</td>\n",
              "      <td>806.724</td>\n",
              "    </tr>\n",
              "    <tr>\n",
              "      <th>...</th>\n",
              "      <td>...</td>\n",
              "      <td>...</td>\n",
              "      <td>...</td>\n",
              "      <td>...</td>\n",
              "      <td>...</td>\n",
              "      <td>...</td>\n",
              "      <td>...</td>\n",
              "      <td>...</td>\n",
              "      <td>...</td>\n",
              "    </tr>\n",
              "    <tr>\n",
              "      <th>111</th>\n",
              "      <td>62</td>\n",
              "      <td>22.656250</td>\n",
              "      <td>92</td>\n",
              "      <td>3.482</td>\n",
              "      <td>0.790182</td>\n",
              "      <td>9.8648</td>\n",
              "      <td>11.236235</td>\n",
              "      <td>10.69548</td>\n",
              "      <td>703.973</td>\n",
              "    </tr>\n",
              "    <tr>\n",
              "      <th>112</th>\n",
              "      <td>32</td>\n",
              "      <td>36.512637</td>\n",
              "      <td>87</td>\n",
              "      <td>14.026</td>\n",
              "      <td>3.009980</td>\n",
              "      <td>49.3727</td>\n",
              "      <td>5.100000</td>\n",
              "      <td>17.10223</td>\n",
              "      <td>588.460</td>\n",
              "    </tr>\n",
              "    <tr>\n",
              "      <th>113</th>\n",
              "      <td>25</td>\n",
              "      <td>22.860000</td>\n",
              "      <td>82</td>\n",
              "      <td>4.090</td>\n",
              "      <td>0.827271</td>\n",
              "      <td>20.4500</td>\n",
              "      <td>23.670000</td>\n",
              "      <td>5.14000</td>\n",
              "      <td>313.730</td>\n",
              "    </tr>\n",
              "    <tr>\n",
              "      <th>114</th>\n",
              "      <td>49</td>\n",
              "      <td>21.367521</td>\n",
              "      <td>78</td>\n",
              "      <td>2.640</td>\n",
              "      <td>0.507936</td>\n",
              "      <td>6.3339</td>\n",
              "      <td>3.886145</td>\n",
              "      <td>22.94254</td>\n",
              "      <td>737.672</td>\n",
              "    </tr>\n",
              "    <tr>\n",
              "      <th>115</th>\n",
              "      <td>54</td>\n",
              "      <td>36.050000</td>\n",
              "      <td>119</td>\n",
              "      <td>11.910</td>\n",
              "      <td>3.495982</td>\n",
              "      <td>89.2700</td>\n",
              "      <td>8.010000</td>\n",
              "      <td>5.06000</td>\n",
              "      <td>218.280</td>\n",
              "    </tr>\n",
              "  </tbody>\n",
              "</table>\n",
              "<p>116 rows × 9 columns</p>\n",
              "</div>\n",
              "      <button class=\"colab-df-convert\" onclick=\"convertToInteractive('df-a9fb1c7d-d7c6-4d65-b931-c85526163713')\"\n",
              "              title=\"Convert this dataframe to an interactive table.\"\n",
              "              style=\"display:none;\">\n",
              "        \n",
              "  <svg xmlns=\"http://www.w3.org/2000/svg\" height=\"24px\"viewBox=\"0 0 24 24\"\n",
              "       width=\"24px\">\n",
              "    <path d=\"M0 0h24v24H0V0z\" fill=\"none\"/>\n",
              "    <path d=\"M18.56 5.44l.94 2.06.94-2.06 2.06-.94-2.06-.94-.94-2.06-.94 2.06-2.06.94zm-11 1L8.5 8.5l.94-2.06 2.06-.94-2.06-.94L8.5 2.5l-.94 2.06-2.06.94zm10 10l.94 2.06.94-2.06 2.06-.94-2.06-.94-.94-2.06-.94 2.06-2.06.94z\"/><path d=\"M17.41 7.96l-1.37-1.37c-.4-.4-.92-.59-1.43-.59-.52 0-1.04.2-1.43.59L10.3 9.45l-7.72 7.72c-.78.78-.78 2.05 0 2.83L4 21.41c.39.39.9.59 1.41.59.51 0 1.02-.2 1.41-.59l7.78-7.78 2.81-2.81c.8-.78.8-2.07 0-2.86zM5.41 20L4 18.59l7.72-7.72 1.47 1.35L5.41 20z\"/>\n",
              "  </svg>\n",
              "      </button>\n",
              "      \n",
              "  <style>\n",
              "    .colab-df-container {\n",
              "      display:flex;\n",
              "      flex-wrap:wrap;\n",
              "      gap: 12px;\n",
              "    }\n",
              "\n",
              "    .colab-df-convert {\n",
              "      background-color: #E8F0FE;\n",
              "      border: none;\n",
              "      border-radius: 50%;\n",
              "      cursor: pointer;\n",
              "      display: none;\n",
              "      fill: #1967D2;\n",
              "      height: 32px;\n",
              "      padding: 0 0 0 0;\n",
              "      width: 32px;\n",
              "    }\n",
              "\n",
              "    .colab-df-convert:hover {\n",
              "      background-color: #E2EBFA;\n",
              "      box-shadow: 0px 1px 2px rgba(60, 64, 67, 0.3), 0px 1px 3px 1px rgba(60, 64, 67, 0.15);\n",
              "      fill: #174EA6;\n",
              "    }\n",
              "\n",
              "    [theme=dark] .colab-df-convert {\n",
              "      background-color: #3B4455;\n",
              "      fill: #D2E3FC;\n",
              "    }\n",
              "\n",
              "    [theme=dark] .colab-df-convert:hover {\n",
              "      background-color: #434B5C;\n",
              "      box-shadow: 0px 1px 3px 1px rgba(0, 0, 0, 0.15);\n",
              "      filter: drop-shadow(0px 1px 2px rgba(0, 0, 0, 0.3));\n",
              "      fill: #FFFFFF;\n",
              "    }\n",
              "  </style>\n",
              "\n",
              "      <script>\n",
              "        const buttonEl =\n",
              "          document.querySelector('#df-a9fb1c7d-d7c6-4d65-b931-c85526163713 button.colab-df-convert');\n",
              "        buttonEl.style.display =\n",
              "          google.colab.kernel.accessAllowed ? 'block' : 'none';\n",
              "\n",
              "        async function convertToInteractive(key) {\n",
              "          const element = document.querySelector('#df-a9fb1c7d-d7c6-4d65-b931-c85526163713');\n",
              "          const dataTable =\n",
              "            await google.colab.kernel.invokeFunction('convertToInteractive',\n",
              "                                                     [key], {});\n",
              "          if (!dataTable) return;\n",
              "\n",
              "          const docLinkHtml = 'Like what you see? Visit the ' +\n",
              "            '<a target=\"_blank\" href=https://colab.research.google.com/notebooks/data_table.ipynb>data table notebook</a>'\n",
              "            + ' to learn more about interactive tables.';\n",
              "          element.innerHTML = '';\n",
              "          dataTable['output_type'] = 'display_data';\n",
              "          await google.colab.output.renderOutput(dataTable, element);\n",
              "          const docLink = document.createElement('div');\n",
              "          docLink.innerHTML = docLinkHtml;\n",
              "          element.appendChild(docLink);\n",
              "        }\n",
              "      </script>\n",
              "    </div>\n",
              "  </div>\n",
              "  "
            ]
          },
          "metadata": {},
          "execution_count": 9
        }
      ]
    },
    {
      "cell_type": "markdown",
      "source": [
        "## Feature Engineering"
      ],
      "metadata": {
        "id": "T5XG3hmq0q9Q"
      }
    },
    {
      "cell_type": "markdown",
      "source": [
        "Heatmap"
      ],
      "metadata": {
        "execution": {
          "iopub.status.busy": "2021-08-01T19:09:50.248907Z",
          "iopub.execute_input": "2021-08-01T19:09:50.249315Z",
          "iopub.status.idle": "2021-08-01T19:09:50.310874Z",
          "shell.execute_reply.started": "2021-08-01T19:09:50.249283Z",
          "shell.execute_reply": "2021-08-01T19:09:50.309220Z"
        },
        "id": "LJpSiGoI0q9Q"
      }
    },
    {
      "cell_type": "code",
      "source": [
        "from seaborn import heatmap\n",
        "\n",
        "plt.figure(figsize=(9,9))\n",
        "heatmap(X.corr(), linewidth=0.5, annot=True);"
      ],
      "metadata": {
        "execution": {
          "iopub.status.busy": "2021-08-01T19:22:43.852644Z",
          "iopub.execute_input": "2021-08-01T19:22:43.853142Z",
          "iopub.status.idle": "2021-08-01T19:22:44.704504Z",
          "shell.execute_reply.started": "2021-08-01T19:22:43.853108Z",
          "shell.execute_reply": "2021-08-01T19:22:44.703400Z"
        },
        "trusted": true,
        "colab": {
          "base_uri": "https://localhost:8080/",
          "height": 591
        },
        "id": "QLI1zscD0q9R",
        "outputId": "458fd5cc-b5e2-4477-c8cf-792f030e414e"
      },
      "execution_count": null,
      "outputs": [
        {
          "output_type": "display_data",
          "data": {
            "text/plain": [
              "<Figure size 648x648 with 2 Axes>"
            ],
            "image/png": "[encoded data removed]"
          },
          "metadata": {
            "needs_background": "light"
          }
        }
      ]
    },
    {
      "cell_type": "code",
      "source": [
        "fig = plt.figure(figsize=(10,10))\n",
        "\n",
        "for index, feature in enumerate(X,1):\n",
        "    plt.subplot(3, 3, index)\n",
        "    plt.scatter(np.arange(116)[y==1], X[feature][y==1], c='r')\n",
        "    plt.scatter(np.arange(116)[y==0], X[feature][y==0], c='b')\n",
        "    plt.title(feature)\n",
        "    \n",
        "fig.tight_layout()\n",
        "plt.show()"
      ],
      "metadata": {
        "execution": {
          "iopub.status.busy": "2021-08-01T19:22:44.706572Z",
          "iopub.execute_input": "2021-08-01T19:22:44.707024Z",
          "iopub.status.idle": "2021-08-01T19:22:46.776558Z",
          "shell.execute_reply.started": "2021-08-01T19:22:44.706978Z",
          "shell.execute_reply": "2021-08-01T19:22:46.775543Z"
        },
        "trusted": true,
        "colab": {
          "base_uri": "https://localhost:8080/",
          "height": 729
        },
        "id": "VxGIgL7L0q9S",
        "outputId": "5bc1f1e9-5e21-42ae-cf2a-1b6255815f59"
      },
      "execution_count": null,
      "outputs": [
        {
          "output_type": "display_data",
          "data": {
            "text/plain": [
              "<Figure size 720x720 with 9 Axes>"
            ],
            "image/png": "[encoded data removed]"
          },
          "metadata": {
            "needs_background": "light"
          }
        }
      ]
    },
    {
      "cell_type": "markdown",
      "source": [
        "again, we can not surely rely on these distributions, excepts for the colinearality of HOMA and Insulin features "
      ],
      "metadata": {
        "id": "qxRLdpSO0q9T"
      }
    },
    {
      "cell_type": "markdown",
      "source": [
        "## Models Prediction\n"
      ],
      "metadata": {
        "id": "4nT7H8EM0q9U"
      }
    },
    {
      "cell_type": "markdown",
      "source": [
        "1. SVC(RBF Kernel)\n",
        "2. SVC(Linear Kernel)\n",
        "3. Decision Tree\n",
        "4. KNN\n"
      ],
      "metadata": {
        "id": "0Z5ykLXN0q9U"
      }
    },
    {
      "cell_type": "markdown",
      "source": [
        "for each of the models we'll use GridSearch hyperparameter tuning on 5-fold crossvalidation"
      ],
      "metadata": {
        "id": "xcc3MB310q9U"
      }
    },
    {
      "cell_type": "code",
      "source": [
        "from sklearn.svm import SVC\n",
        "from sklearn.tree import DecisionTreeClassifier \n",
        "from sklearn.neighbors import KNeighborsClassifier\n",
        "from sklearn.linear_model import LogisticRegression\n",
        "from sklearn.model_selection import train_test_split\n",
        "from sklearn.model_selection import GridSearchCV\n",
        "from sklearn.metrics import confusion_matrix, accuracy_score, classification_report"
      ],
      "metadata": {
        "execution": {
          "iopub.status.busy": "2021-08-01T19:22:58.907067Z",
          "iopub.execute_input": "2021-08-01T19:22:58.907500Z",
          "iopub.status.idle": "2021-08-01T19:22:58.917557Z",
          "shell.execute_reply.started": "2021-08-01T19:22:58.907442Z",
          "shell.execute_reply": "2021-08-01T19:22:58.916747Z"
        },
        "trusted": true,
        "id": "hXjA0-yg0q9V"
      },
      "execution_count": null,
      "outputs": []
    },
    {
      "cell_type": "markdown",
      "source": [
        "### train/validation split"
      ],
      "metadata": {
        "id": "YzqmrUhQ0q9V"
      }
    },
    {
      "cell_type": "code",
      "source": [
        "X_train, X_test, y_train, y_test = train_test_split(X, y, test_size=.2,random_state=1)"
      ],
      "metadata": {
        "execution": {
          "iopub.status.busy": "2021-08-01T19:22:58.919568Z",
          "iopub.execute_input": "2021-08-01T19:22:58.920309Z",
          "iopub.status.idle": "2021-08-01T19:22:58.931742Z",
          "shell.execute_reply.started": "2021-08-01T19:22:58.920263Z",
          "shell.execute_reply": "2021-08-01T19:22:58.930742Z"
        },
        "trusted": true,
        "id": "JYpo2PLi0q9V"
      },
      "execution_count": null,
      "outputs": []
    },
    {
      "cell_type": "markdown",
      "source": [
        "### SVC( RBF Kernel )"
      ],
      "metadata": {
        "id": "SRM8yAFw0q9V"
      }
    },
    {
      "cell_type": "code",
      "source": [
        "rbf_tuning_parameters = [{'kernel': ['rbf'], \n",
        "                       'gamma': [1e-2, 1e-3, 1e-4, 1e-5],\n",
        "                       'C': [1, 10, 100, 1000]}]\n",
        "\n",
        "rbf_svm_clf = GridSearchCV(SVC(), rbf_tuning_parameters, cv=5)"
      ],
      "metadata": {
        "execution": {
          "iopub.status.busy": "2021-08-01T19:22:58.950305Z",
          "iopub.execute_input": "2021-08-01T19:22:58.950651Z",
          "iopub.status.idle": "2021-08-01T19:22:58.960256Z",
          "shell.execute_reply.started": "2021-08-01T19:22:58.950620Z",
          "shell.execute_reply": "2021-08-01T19:22:58.959329Z"
        },
        "trusted": true,
        "id": "H7GLHmSC0q9V"
      },
      "execution_count": null,
      "outputs": []
    },
    {
      "cell_type": "code",
      "source": [
        "rbf_svm_clf.fit(X_train, y_train)"
      ],
      "metadata": {
        "execution": {
          "iopub.status.busy": "2021-08-01T19:22:58.961375Z",
          "iopub.execute_input": "2021-08-01T19:22:58.961833Z",
          "iopub.status.idle": "2021-08-01T19:22:59.126908Z",
          "shell.execute_reply.started": "2021-08-01T19:22:58.961804Z",
          "shell.execute_reply": "2021-08-01T19:22:59.125803Z"
        },
        "trusted": true,
        "colab": {
          "base_uri": "https://localhost:8080/"
        },
        "id": "rKT7bpeZ0q9W",
        "outputId": "c85aa937-213b-4083-9d6c-de2569f0328e"
      },
      "execution_count": null,
      "outputs": [
        {
          "output_type": "execute_result",
          "data": {
            "text/plain": [
              "GridSearchCV(cv=5, estimator=SVC(),\n",
              "             param_grid=[{'C': [1, 10, 100, 1000],\n",
              "                          'gamma': [0.01, 0.001, 0.0001, 1e-05],\n",
              "                          'kernel': ['rbf']}])"
            ]
          },
          "metadata": {},
          "execution_count": 23
        }
      ]
    },
    {
      "cell_type": "code",
      "source": [
        "print(rbf_svm_clf.best_params_)"
      ],
      "metadata": {
        "execution": {
          "iopub.status.busy": "2021-08-01T19:22:59.128145Z",
          "iopub.execute_input": "2021-08-01T19:22:59.128451Z",
          "iopub.status.idle": "2021-08-01T19:22:59.134034Z",
          "shell.execute_reply.started": "2021-08-01T19:22:59.128422Z",
          "shell.execute_reply": "2021-08-01T19:22:59.132972Z"
        },
        "trusted": true,
        "colab": {
          "base_uri": "https://localhost:8080/"
        },
        "id": "PhBdyiBs0q9W",
        "outputId": "42b398c9-1c34-421b-f1b5-0c8df3355229"
      },
      "execution_count": null,
      "outputs": [
        {
          "output_type": "stream",
          "name": "stdout",
          "text": [
            "{'C': 100, 'gamma': 1e-05, 'kernel': 'rbf'}\n"
          ]
        }
      ]
    },
    {
      "cell_type": "code",
      "source": [
        "y_pred_rbf_clf = rbf_svm_clf.predict(X_test)\n",
        "print(classification_report(y_test, y_pred_rbf_clf))\n",
        "print(accuracy_score(y_test, y_pred_rbf_clf))"
      ],
      "metadata": {
        "execution": {
          "iopub.status.busy": "2021-08-01T19:22:59.135277Z",
          "iopub.execute_input": "2021-08-01T19:22:59.135599Z",
          "iopub.status.idle": "2021-08-01T19:22:59.154005Z",
          "shell.execute_reply.started": "2021-08-01T19:22:59.135570Z",
          "shell.execute_reply": "2021-08-01T19:22:59.152220Z"
        },
        "trusted": true,
        "colab": {
          "base_uri": "https://localhost:8080/"
        },
        "id": "T6PwjDzi0q9W",
        "outputId": "1010b7f6-0e9e-41c5-b8f7-d7c505b3ab87"
      },
      "execution_count": null,
      "outputs": [
        {
          "output_type": "stream",
          "name": "stdout",
          "text": [
            "              precision    recall  f1-score   support\n",
            "\n",
            "           0       0.64      0.90      0.75        10\n",
            "           1       0.90      0.64      0.75        14\n",
            "\n",
            "    accuracy                           0.75        24\n",
            "   macro avg       0.77      0.77      0.75        24\n",
            "weighted avg       0.79      0.75      0.75        24\n",
            "\n",
            "0.75\n"
          ]
        }
      ]
    },
    {
      "cell_type": "code",
      "source": [
        "import joblib\n",
        "\n",
        "joblib.dump( rbf_svm_clf , 'bloodmodelRBF') "
      ],
      "metadata": {
        "colab": {
          "base_uri": "https://localhost:8080/"
        },
        "id": "vcMOF5Vt2apo",
        "outputId": "3aa6f52f-b41b-43d7-9fbc-2e94e332e716"
      },
      "execution_count": null,
      "outputs": [
        {
          "output_type": "execute_result",
          "data": {
            "text/plain": [
              "['bloodmodelRBF']"
            ]
          },
          "metadata": {},
          "execution_count": 28
        }
      ]
    },
    {
      "cell_type": "code",
      "source": [
        "rbf_svm_clf.predict([[45, 21.3, 102, 13.8, 3.4, 7.6, 21, 23, 552]])"
      ],
      "metadata": {
        "colab": {
          "base_uri": "https://localhost:8080/"
        },
        "id": "mkHOSc_C3j_x",
        "outputId": "edd3422c-883f-43d1-ff59-cf324066a534"
      },
      "execution_count": null,
      "outputs": [
        {
          "output_type": "stream",
          "name": "stderr",
          "text": [
            "/usr/local/lib/python3.7/dist-packages/sklearn/base.py:451: UserWarning: X does not have valid feature names, but SVC was fitted with feature names\n",
            "  \"X does not have valid feature names, but\"\n"
          ]
        },
        {
          "output_type": "execute_result",
          "data": {
            "text/plain": [
              "array([1])"
            ]
          },
          "metadata": {},
          "execution_count": 34
        }
      ]
    }
  ]
}